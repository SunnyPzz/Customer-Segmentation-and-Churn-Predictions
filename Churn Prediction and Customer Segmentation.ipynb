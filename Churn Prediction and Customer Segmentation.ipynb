{
 "cells": [
  {
   "cell_type": "code",
   "execution_count": 4,
   "id": "09fc1196",
   "metadata": {},
   "outputs": [],
   "source": [
    "import pandas as pd\n",
    "import numpy as np\n",
    "import matplotlib.pyplot as plt\n",
    "import seaborn as sns"
   ]
  },
  {
   "cell_type": "code",
   "execution_count": 5,
   "id": "0ed92b25",
   "metadata": {},
   "outputs": [
    {
     "data": {
      "text/html": [
       "<div>\n",
       "<style scoped>\n",
       "    .dataframe tbody tr th:only-of-type {\n",
       "        vertical-align: middle;\n",
       "    }\n",
       "\n",
       "    .dataframe tbody tr th {\n",
       "        vertical-align: top;\n",
       "    }\n",
       "\n",
       "    .dataframe thead th {\n",
       "        text-align: right;\n",
       "    }\n",
       "</style>\n",
       "<table border=\"1\" class=\"dataframe\">\n",
       "  <thead>\n",
       "    <tr style=\"text-align: right;\">\n",
       "      <th></th>\n",
       "      <th>viewer_id</th>\n",
       "      <th>gender</th>\n",
       "      <th>age</th>\n",
       "      <th>married</th>\n",
       "      <th>number_of_family_dependents</th>\n",
       "      <th>city</th>\n",
       "      <th>zip_code</th>\n",
       "      <th>latitude</th>\n",
       "      <th>longitude</th>\n",
       "      <th>number_of_referrals</th>\n",
       "      <th>...</th>\n",
       "      <th>subscription_type</th>\n",
       "      <th>paperless_billing</th>\n",
       "      <th>payment_method</th>\n",
       "      <th>monthly_charge</th>\n",
       "      <th>total_charges</th>\n",
       "      <th>total_refunds</th>\n",
       "      <th>total_extra_data_charges</th>\n",
       "      <th>total_long_distance_charges</th>\n",
       "      <th>total_revenue</th>\n",
       "      <th>viewer_status</th>\n",
       "    </tr>\n",
       "  </thead>\n",
       "  <tbody>\n",
       "    <tr>\n",
       "      <th>0</th>\n",
       "      <td>0002-ORFBO</td>\n",
       "      <td>Female</td>\n",
       "      <td>37</td>\n",
       "      <td>Yes</td>\n",
       "      <td>0</td>\n",
       "      <td>SD</td>\n",
       "      <td>93225</td>\n",
       "      <td>34.827662</td>\n",
       "      <td>-118.999073</td>\n",
       "      <td>2</td>\n",
       "      <td>...</td>\n",
       "      <td>One Year</td>\n",
       "      <td>Yes</td>\n",
       "      <td>Credit Card</td>\n",
       "      <td>65.6</td>\n",
       "      <td>593.30</td>\n",
       "      <td>0.00</td>\n",
       "      <td>0</td>\n",
       "      <td>381.51</td>\n",
       "      <td>974.81</td>\n",
       "      <td>Stayed</td>\n",
       "    </tr>\n",
       "    <tr>\n",
       "      <th>1</th>\n",
       "      <td>0003-MKNFE</td>\n",
       "      <td>Male</td>\n",
       "      <td>46</td>\n",
       "      <td>No</td>\n",
       "      <td>0</td>\n",
       "      <td>SD</td>\n",
       "      <td>91206</td>\n",
       "      <td>34.162515</td>\n",
       "      <td>-118.203869</td>\n",
       "      <td>0</td>\n",
       "      <td>...</td>\n",
       "      <td>Month-to-Month</td>\n",
       "      <td>No</td>\n",
       "      <td>Credit Card</td>\n",
       "      <td>-4.0</td>\n",
       "      <td>542.40</td>\n",
       "      <td>38.33</td>\n",
       "      <td>10</td>\n",
       "      <td>96.21</td>\n",
       "      <td>610.28</td>\n",
       "      <td>Stayed</td>\n",
       "    </tr>\n",
       "    <tr>\n",
       "      <th>2</th>\n",
       "      <td>0004-TLHLJ</td>\n",
       "      <td>Male</td>\n",
       "      <td>50</td>\n",
       "      <td>No</td>\n",
       "      <td>0</td>\n",
       "      <td>SD</td>\n",
       "      <td>92627</td>\n",
       "      <td>33.645672</td>\n",
       "      <td>-117.922613</td>\n",
       "      <td>0</td>\n",
       "      <td>...</td>\n",
       "      <td>Month-to-Month</td>\n",
       "      <td>Yes</td>\n",
       "      <td>Bank Withdrawal</td>\n",
       "      <td>73.9</td>\n",
       "      <td>280.85</td>\n",
       "      <td>0.00</td>\n",
       "      <td>0</td>\n",
       "      <td>134.60</td>\n",
       "      <td>415.45</td>\n",
       "      <td>Churned</td>\n",
       "    </tr>\n",
       "  </tbody>\n",
       "</table>\n",
       "<p>3 rows × 33 columns</p>\n",
       "</div>"
      ],
      "text/plain": [
       "    viewer_id  gender  age married  number_of_family_dependents city  \\\n",
       "0  0002-ORFBO  Female   37     Yes                            0   SD   \n",
       "1  0003-MKNFE    Male   46      No                            0   SD   \n",
       "2  0004-TLHLJ    Male   50      No                            0   SD   \n",
       "\n",
       "   zip_code   latitude   longitude  number_of_referrals  ...  \\\n",
       "0     93225  34.827662 -118.999073                    2  ...   \n",
       "1     91206  34.162515 -118.203869                    0  ...   \n",
       "2     92627  33.645672 -117.922613                    0  ...   \n",
       "\n",
       "   subscription_type paperless_billing   payment_method monthly_charge  \\\n",
       "0           One Year               Yes      Credit Card           65.6   \n",
       "1     Month-to-Month                No      Credit Card           -4.0   \n",
       "2     Month-to-Month               Yes  Bank Withdrawal           73.9   \n",
       "\n",
       "   total_charges total_refunds total_extra_data_charges  \\\n",
       "0         593.30          0.00                        0   \n",
       "1         542.40         38.33                       10   \n",
       "2         280.85          0.00                        0   \n",
       "\n",
       "  total_long_distance_charges total_revenue viewer_status  \n",
       "0                      381.51        974.81        Stayed  \n",
       "1                       96.21        610.28        Stayed  \n",
       "2                      134.60        415.45       Churned  \n",
       "\n",
       "[3 rows x 33 columns]"
      ]
     },
     "execution_count": 5,
     "metadata": {},
     "output_type": "execute_result"
    }
   ],
   "source": [
    "df = pd.read_csv('dataset/telecom_customer_churn.csv')\n",
    "df.head(3)"
   ]
  },
  {
   "cell_type": "markdown",
   "id": "3f76cf4a",
   "metadata": {},
   "source": [
    "# EDA"
   ]
  },
  {
   "cell_type": "code",
   "execution_count": 6,
   "id": "2e43fbd0",
   "metadata": {},
   "outputs": [],
   "source": [
    "### Determine the outlier of numerical variables"
   ]
  },
  {
   "cell_type": "code",
   "execution_count": 7,
   "id": "d9599462",
   "metadata": {},
   "outputs": [],
   "source": [
    "def compute_outlier(col_name):\n",
    "    Q1 = np.percentile(df[col_name],25)\n",
    "    Q3 = np.percentile(df[col_name],75)\n",
    "    upper = Q3 + 1.5 * (Q3 - Q1)\n",
    "    lower = Q1 - 1.5 * (Q3 - Q1)\n",
    "    outlier_per = len(df[(df[col_name] > upper) | (df[col_name] < lower)])/len(df)\n",
    "    return outlier_per"
   ]
  },
  {
   "cell_type": "code",
   "execution_count": 8,
   "id": "c04a582b",
   "metadata": {},
   "outputs": [
    {
     "data": {
      "text/html": [
       "<div>\n",
       "<style scoped>\n",
       "    .dataframe tbody tr th:only-of-type {\n",
       "        vertical-align: middle;\n",
       "    }\n",
       "\n",
       "    .dataframe tbody tr th {\n",
       "        vertical-align: top;\n",
       "    }\n",
       "\n",
       "    .dataframe thead th {\n",
       "        text-align: right;\n",
       "    }\n",
       "</style>\n",
       "<table border=\"1\" class=\"dataframe\">\n",
       "  <thead>\n",
       "    <tr style=\"text-align: right;\">\n",
       "      <th></th>\n",
       "      <th>age</th>\n",
       "      <th>number_of_family_dependents</th>\n",
       "      <th>zip_code</th>\n",
       "      <th>latitude</th>\n",
       "      <th>longitude</th>\n",
       "      <th>number_of_referrals</th>\n",
       "      <th>tenure_in_months</th>\n",
       "      <th>avg_monthly_gb_download</th>\n",
       "      <th>monthly_charge</th>\n",
       "      <th>total_charges</th>\n",
       "      <th>total_refunds</th>\n",
       "      <th>total_extra_data_charges</th>\n",
       "      <th>total_long_distance_charges</th>\n",
       "      <th>total_revenue</th>\n",
       "    </tr>\n",
       "  </thead>\n",
       "  <tbody>\n",
       "    <tr>\n",
       "      <th>count</th>\n",
       "      <td>6588.000000</td>\n",
       "      <td>6588.000000</td>\n",
       "      <td>6588.000000</td>\n",
       "      <td>6588.000000</td>\n",
       "      <td>6588.000000</td>\n",
       "      <td>6588.000000</td>\n",
       "      <td>6588.000000</td>\n",
       "      <td>5244.000000</td>\n",
       "      <td>6588.000000</td>\n",
       "      <td>6588.000000</td>\n",
       "      <td>6588.000000</td>\n",
       "      <td>6588.000000</td>\n",
       "      <td>6588.000000</td>\n",
       "      <td>6588.000000</td>\n",
       "    </tr>\n",
       "    <tr>\n",
       "      <th>mean</th>\n",
       "      <td>46.757438</td>\n",
       "      <td>0.476169</td>\n",
       "      <td>93491.512750</td>\n",
       "      <td>36.199980</td>\n",
       "      <td>-119.757549</td>\n",
       "      <td>2.021099</td>\n",
       "      <td>34.494232</td>\n",
       "      <td>26.228261</td>\n",
       "      <td>65.023915</td>\n",
       "      <td>2431.211611</td>\n",
       "      <td>2.081254</td>\n",
       "      <td>7.170613</td>\n",
       "      <td>798.101053</td>\n",
       "      <td>3234.402023</td>\n",
       "    </tr>\n",
       "    <tr>\n",
       "      <th>std</th>\n",
       "      <td>16.840793</td>\n",
       "      <td>0.968555</td>\n",
       "      <td>1857.716269</td>\n",
       "      <td>2.472582</td>\n",
       "      <td>2.155838</td>\n",
       "      <td>3.024220</td>\n",
       "      <td>23.966333</td>\n",
       "      <td>19.566861</td>\n",
       "      <td>31.098217</td>\n",
       "      <td>2264.668413</td>\n",
       "      <td>8.125630</td>\n",
       "      <td>25.804970</td>\n",
       "      <td>853.832041</td>\n",
       "      <td>2854.047975</td>\n",
       "    </tr>\n",
       "    <tr>\n",
       "      <th>min</th>\n",
       "      <td>19.000000</td>\n",
       "      <td>0.000000</td>\n",
       "      <td>90001.000000</td>\n",
       "      <td>32.555828</td>\n",
       "      <td>-124.301372</td>\n",
       "      <td>0.000000</td>\n",
       "      <td>1.000000</td>\n",
       "      <td>2.000000</td>\n",
       "      <td>-10.000000</td>\n",
       "      <td>18.850000</td>\n",
       "      <td>0.000000</td>\n",
       "      <td>0.000000</td>\n",
       "      <td>0.000000</td>\n",
       "      <td>21.610000</td>\n",
       "    </tr>\n",
       "    <tr>\n",
       "      <th>25%</th>\n",
       "      <td>33.000000</td>\n",
       "      <td>0.000000</td>\n",
       "      <td>92103.000000</td>\n",
       "      <td>33.989286</td>\n",
       "      <td>-121.790034</td>\n",
       "      <td>0.000000</td>\n",
       "      <td>12.000000</td>\n",
       "      <td>13.000000</td>\n",
       "      <td>35.800000</td>\n",
       "      <td>544.362500</td>\n",
       "      <td>0.000000</td>\n",
       "      <td>0.000000</td>\n",
       "      <td>106.665000</td>\n",
       "      <td>835.407500</td>\n",
       "    </tr>\n",
       "    <tr>\n",
       "      <th>50%</th>\n",
       "      <td>46.000000</td>\n",
       "      <td>0.000000</td>\n",
       "      <td>93526.000000</td>\n",
       "      <td>36.245926</td>\n",
       "      <td>-119.601370</td>\n",
       "      <td>0.000000</td>\n",
       "      <td>32.000000</td>\n",
       "      <td>21.000000</td>\n",
       "      <td>71.025000</td>\n",
       "      <td>1562.700000</td>\n",
       "      <td>0.000000</td>\n",
       "      <td>0.000000</td>\n",
       "      <td>472.240000</td>\n",
       "      <td>2375.925000</td>\n",
       "    </tr>\n",
       "    <tr>\n",
       "      <th>75%</th>\n",
       "      <td>60.000000</td>\n",
       "      <td>0.000000</td>\n",
       "      <td>95333.250000</td>\n",
       "      <td>38.169605</td>\n",
       "      <td>-117.967399</td>\n",
       "      <td>3.000000</td>\n",
       "      <td>57.000000</td>\n",
       "      <td>30.000000</td>\n",
       "      <td>90.400000</td>\n",
       "      <td>3998.350000</td>\n",
       "      <td>0.000000</td>\n",
       "      <td>0.000000</td>\n",
       "      <td>1275.872500</td>\n",
       "      <td>5105.207500</td>\n",
       "    </tr>\n",
       "    <tr>\n",
       "      <th>max</th>\n",
       "      <td>80.000000</td>\n",
       "      <td>9.000000</td>\n",
       "      <td>96150.000000</td>\n",
       "      <td>41.962127</td>\n",
       "      <td>-114.192901</td>\n",
       "      <td>11.000000</td>\n",
       "      <td>72.000000</td>\n",
       "      <td>85.000000</td>\n",
       "      <td>118.750000</td>\n",
       "      <td>8684.800000</td>\n",
       "      <td>49.790000</td>\n",
       "      <td>150.000000</td>\n",
       "      <td>3564.720000</td>\n",
       "      <td>11979.340000</td>\n",
       "    </tr>\n",
       "  </tbody>\n",
       "</table>\n",
       "</div>"
      ],
      "text/plain": [
       "               age  number_of_family_dependents      zip_code     latitude  \\\n",
       "count  6588.000000                  6588.000000   6588.000000  6588.000000   \n",
       "mean     46.757438                     0.476169  93491.512750    36.199980   \n",
       "std      16.840793                     0.968555   1857.716269     2.472582   \n",
       "min      19.000000                     0.000000  90001.000000    32.555828   \n",
       "25%      33.000000                     0.000000  92103.000000    33.989286   \n",
       "50%      46.000000                     0.000000  93526.000000    36.245926   \n",
       "75%      60.000000                     0.000000  95333.250000    38.169605   \n",
       "max      80.000000                     9.000000  96150.000000    41.962127   \n",
       "\n",
       "         longitude  number_of_referrals  tenure_in_months  \\\n",
       "count  6588.000000          6588.000000       6588.000000   \n",
       "mean   -119.757549             2.021099         34.494232   \n",
       "std       2.155838             3.024220         23.966333   \n",
       "min    -124.301372             0.000000          1.000000   \n",
       "25%    -121.790034             0.000000         12.000000   \n",
       "50%    -119.601370             0.000000         32.000000   \n",
       "75%    -117.967399             3.000000         57.000000   \n",
       "max    -114.192901            11.000000         72.000000   \n",
       "\n",
       "       avg_monthly_gb_download  monthly_charge  total_charges  total_refunds  \\\n",
       "count              5244.000000     6588.000000    6588.000000    6588.000000   \n",
       "mean                 26.228261       65.023915    2431.211611       2.081254   \n",
       "std                  19.566861       31.098217    2264.668413       8.125630   \n",
       "min                   2.000000      -10.000000      18.850000       0.000000   \n",
       "25%                  13.000000       35.800000     544.362500       0.000000   \n",
       "50%                  21.000000       71.025000    1562.700000       0.000000   \n",
       "75%                  30.000000       90.400000    3998.350000       0.000000   \n",
       "max                  85.000000      118.750000    8684.800000      49.790000   \n",
       "\n",
       "       total_extra_data_charges  total_long_distance_charges  total_revenue  \n",
       "count               6588.000000                  6588.000000    6588.000000  \n",
       "mean                   7.170613                   798.101053    3234.402023  \n",
       "std                   25.804970                   853.832041    2854.047975  \n",
       "min                    0.000000                     0.000000      21.610000  \n",
       "25%                    0.000000                   106.665000     835.407500  \n",
       "50%                    0.000000                   472.240000    2375.925000  \n",
       "75%                    0.000000                  1275.872500    5105.207500  \n",
       "max                  150.000000                  3564.720000   11979.340000  "
      ]
     },
     "execution_count": 8,
     "metadata": {},
     "output_type": "execute_result"
    }
   ],
   "source": [
    "df.describe()"
   ]
  },
  {
   "cell_type": "code",
   "execution_count": 9,
   "id": "03d532dc",
   "metadata": {},
   "outputs": [],
   "source": [
    "num = ['age', 'number_of_family_dependents', 'number_of_referrals', 'tenure_in_months', 'avg_monthly_gb_download',\n",
    "      'monthly_charge', 'total_charges', 'total_refunds', 'total_extra_data_charges', 'total_long_distance_charges',\n",
    "      'total_revenue']\n",
    "\n",
    "dic = {}\n",
    "for name in num:\n",
    "    dic[name] = compute_outlier(name)"
   ]
  },
  {
   "cell_type": "code",
   "execution_count": 10,
   "id": "685e63e1",
   "metadata": {},
   "outputs": [
    {
     "data": {
      "text/html": [
       "<div>\n",
       "<style scoped>\n",
       "    .dataframe tbody tr th:only-of-type {\n",
       "        vertical-align: middle;\n",
       "    }\n",
       "\n",
       "    .dataframe tbody tr th {\n",
       "        vertical-align: top;\n",
       "    }\n",
       "\n",
       "    .dataframe thead th {\n",
       "        text-align: right;\n",
       "    }\n",
       "</style>\n",
       "<table border=\"1\" class=\"dataframe\">\n",
       "  <thead>\n",
       "    <tr style=\"text-align: right;\">\n",
       "      <th></th>\n",
       "      <th>Numerical Variable</th>\n",
       "      <th>Outlier %</th>\n",
       "    </tr>\n",
       "  </thead>\n",
       "  <tbody>\n",
       "    <tr>\n",
       "      <th>1</th>\n",
       "      <td>number_of_family_dependents</td>\n",
       "      <td>0.234821</td>\n",
       "    </tr>\n",
       "    <tr>\n",
       "      <th>8</th>\n",
       "      <td>total_extra_data_charges</td>\n",
       "      <td>0.103825</td>\n",
       "    </tr>\n",
       "    <tr>\n",
       "      <th>2</th>\n",
       "      <td>number_of_referrals</td>\n",
       "      <td>0.098512</td>\n",
       "    </tr>\n",
       "    <tr>\n",
       "      <th>7</th>\n",
       "      <td>total_refunds</td>\n",
       "      <td>0.078931</td>\n",
       "    </tr>\n",
       "    <tr>\n",
       "      <th>9</th>\n",
       "      <td>total_long_distance_charges</td>\n",
       "      <td>0.020644</td>\n",
       "    </tr>\n",
       "    <tr>\n",
       "      <th>10</th>\n",
       "      <td>total_revenue</td>\n",
       "      <td>0.001366</td>\n",
       "    </tr>\n",
       "    <tr>\n",
       "      <th>0</th>\n",
       "      <td>age</td>\n",
       "      <td>0.000000</td>\n",
       "    </tr>\n",
       "    <tr>\n",
       "      <th>3</th>\n",
       "      <td>tenure_in_months</td>\n",
       "      <td>0.000000</td>\n",
       "    </tr>\n",
       "    <tr>\n",
       "      <th>4</th>\n",
       "      <td>avg_monthly_gb_download</td>\n",
       "      <td>0.000000</td>\n",
       "    </tr>\n",
       "    <tr>\n",
       "      <th>5</th>\n",
       "      <td>monthly_charge</td>\n",
       "      <td>0.000000</td>\n",
       "    </tr>\n",
       "    <tr>\n",
       "      <th>6</th>\n",
       "      <td>total_charges</td>\n",
       "      <td>0.000000</td>\n",
       "    </tr>\n",
       "  </tbody>\n",
       "</table>\n",
       "</div>"
      ],
      "text/plain": [
       "             Numerical Variable  Outlier %\n",
       "1   number_of_family_dependents   0.234821\n",
       "8      total_extra_data_charges   0.103825\n",
       "2           number_of_referrals   0.098512\n",
       "7                 total_refunds   0.078931\n",
       "9   total_long_distance_charges   0.020644\n",
       "10                total_revenue   0.001366\n",
       "0                           age   0.000000\n",
       "3              tenure_in_months   0.000000\n",
       "4       avg_monthly_gb_download   0.000000\n",
       "5                monthly_charge   0.000000\n",
       "6                 total_charges   0.000000"
      ]
     },
     "execution_count": 10,
     "metadata": {},
     "output_type": "execute_result"
    }
   ],
   "source": [
    "outlier_percentage = pd.DataFrame(dic.items(), columns = ['Numerical Variable','Outlier %']).sort_values('Outlier %', ascending = False)\n",
    "outlier_percentage"
   ]
  },
  {
   "cell_type": "code",
   "execution_count": 11,
   "id": "12493861",
   "metadata": {},
   "outputs": [],
   "source": [
    "### Take a look at variable that has outlier percentage greater than 5%"
   ]
  },
  {
   "cell_type": "code",
   "execution_count": 12,
   "id": "cb782548",
   "metadata": {},
   "outputs": [
    {
     "data": {
      "image/png": "[encoded data removed]",
      "text/plain": [
       "<Figure size 1800x600 with 4 Axes>"
      ]
     },
     "metadata": {},
     "output_type": "display_data"
    }
   ],
   "source": [
    "fig, ax = plt.subplots(1,4,figsize=(18,6))\n",
    "sns.set_style('whitegrid')\n",
    "for i, name in enumerate(['number_of_family_dependents', 'total_extra_data_charges', 'number_of_referrals', 'total_refunds']):\n",
    "    sns.boxplot(x=df[name], ax=ax[i])\n",
    "\n"
   ]
  },
  {
   "cell_type": "markdown",
   "id": "dce0eb5a",
   "metadata": {},
   "source": [
    "Since the pattern of outlier for number_of_family_dependents, total_extra_data_changes, and total_refuns are uniform, it doesn't seem like this is a typo or extreme case. However, the number of referrals shows small portion of extreme case and relatively small amount of data points, so we could replace it with its mean"
   ]
  },
  {
   "cell_type": "code",
   "execution_count": 13,
   "id": "c7cb893b",
   "metadata": {},
   "outputs": [],
   "source": [
    "df.loc[df['number_of_referrals']>7, 'number_of_referrals'] = df['number_of_referrals'].mean()"
   ]
  },
  {
   "cell_type": "markdown",
   "id": "120ae955",
   "metadata": {},
   "source": [
    "Now we are moving to the number of NA in the dataset by creating a dataframe that ranked the percentage of na in each variable"
   ]
  },
  {
   "cell_type": "code",
   "execution_count": 14,
   "id": "bbb9bcfe",
   "metadata": {},
   "outputs": [
    {
     "data": {
      "text/html": [
       "<div>\n",
       "<style scoped>\n",
       "    .dataframe tbody tr th:only-of-type {\n",
       "        vertical-align: middle;\n",
       "    }\n",
       "\n",
       "    .dataframe tbody tr th {\n",
       "        vertical-align: top;\n",
       "    }\n",
       "\n",
       "    .dataframe thead th {\n",
       "        text-align: right;\n",
       "    }\n",
       "</style>\n",
       "<table border=\"1\" class=\"dataframe\">\n",
       "  <thead>\n",
       "    <tr style=\"text-align: right;\">\n",
       "      <th></th>\n",
       "      <th>na%</th>\n",
       "    </tr>\n",
       "  </thead>\n",
       "  <tbody>\n",
       "    <tr>\n",
       "      <th>online_backup</th>\n",
       "      <td>20.400729</td>\n",
       "    </tr>\n",
       "    <tr>\n",
       "      <th>streaming_tv</th>\n",
       "      <td>20.400729</td>\n",
       "    </tr>\n",
       "    <tr>\n",
       "      <th>device_protection_plan</th>\n",
       "      <td>20.400729</td>\n",
       "    </tr>\n",
       "    <tr>\n",
       "      <th>streaming_movies</th>\n",
       "      <td>20.400729</td>\n",
       "    </tr>\n",
       "    <tr>\n",
       "      <th>online_security</th>\n",
       "      <td>20.400729</td>\n",
       "    </tr>\n",
       "    <tr>\n",
       "      <th>avg_monthly_gb_download</th>\n",
       "      <td>20.400729</td>\n",
       "    </tr>\n",
       "    <tr>\n",
       "      <th>internet_type</th>\n",
       "      <td>20.400729</td>\n",
       "    </tr>\n",
       "    <tr>\n",
       "      <th>streaming_music</th>\n",
       "      <td>20.400729</td>\n",
       "    </tr>\n",
       "    <tr>\n",
       "      <th>unlimited_hi-res_streaming</th>\n",
       "      <td>20.400729</td>\n",
       "    </tr>\n",
       "    <tr>\n",
       "      <th>premium_tech_support</th>\n",
       "      <td>20.400729</td>\n",
       "    </tr>\n",
       "    <tr>\n",
       "      <th>subscription_type</th>\n",
       "      <td>0.000000</td>\n",
       "    </tr>\n",
       "    <tr>\n",
       "      <th>payment_method</th>\n",
       "      <td>0.000000</td>\n",
       "    </tr>\n",
       "    <tr>\n",
       "      <th>monthly_charge</th>\n",
       "      <td>0.000000</td>\n",
       "    </tr>\n",
       "    <tr>\n",
       "      <th>total_charges</th>\n",
       "      <td>0.000000</td>\n",
       "    </tr>\n",
       "    <tr>\n",
       "      <th>total_refunds</th>\n",
       "      <td>0.000000</td>\n",
       "    </tr>\n",
       "    <tr>\n",
       "      <th>total_extra_data_charges</th>\n",
       "      <td>0.000000</td>\n",
       "    </tr>\n",
       "    <tr>\n",
       "      <th>total_long_distance_charges</th>\n",
       "      <td>0.000000</td>\n",
       "    </tr>\n",
       "    <tr>\n",
       "      <th>total_revenue</th>\n",
       "      <td>0.000000</td>\n",
       "    </tr>\n",
       "    <tr>\n",
       "      <th>paperless_billing</th>\n",
       "      <td>0.000000</td>\n",
       "    </tr>\n",
       "    <tr>\n",
       "      <th>viewer_id</th>\n",
       "      <td>0.000000</td>\n",
       "    </tr>\n",
       "    <tr>\n",
       "      <th>gender</th>\n",
       "      <td>0.000000</td>\n",
       "    </tr>\n",
       "    <tr>\n",
       "      <th>internet_service</th>\n",
       "      <td>0.000000</td>\n",
       "    </tr>\n",
       "    <tr>\n",
       "      <th>offer</th>\n",
       "      <td>0.000000</td>\n",
       "    </tr>\n",
       "    <tr>\n",
       "      <th>tenure_in_months</th>\n",
       "      <td>0.000000</td>\n",
       "    </tr>\n",
       "    <tr>\n",
       "      <th>number_of_referrals</th>\n",
       "      <td>0.000000</td>\n",
       "    </tr>\n",
       "    <tr>\n",
       "      <th>longitude</th>\n",
       "      <td>0.000000</td>\n",
       "    </tr>\n",
       "    <tr>\n",
       "      <th>latitude</th>\n",
       "      <td>0.000000</td>\n",
       "    </tr>\n",
       "    <tr>\n",
       "      <th>zip_code</th>\n",
       "      <td>0.000000</td>\n",
       "    </tr>\n",
       "    <tr>\n",
       "      <th>city</th>\n",
       "      <td>0.000000</td>\n",
       "    </tr>\n",
       "    <tr>\n",
       "      <th>number_of_family_dependents</th>\n",
       "      <td>0.000000</td>\n",
       "    </tr>\n",
       "    <tr>\n",
       "      <th>married</th>\n",
       "      <td>0.000000</td>\n",
       "    </tr>\n",
       "    <tr>\n",
       "      <th>age</th>\n",
       "      <td>0.000000</td>\n",
       "    </tr>\n",
       "    <tr>\n",
       "      <th>viewer_status</th>\n",
       "      <td>0.000000</td>\n",
       "    </tr>\n",
       "  </tbody>\n",
       "</table>\n",
       "</div>"
      ],
      "text/plain": [
       "                                   na%\n",
       "online_backup                20.400729\n",
       "streaming_tv                 20.400729\n",
       "device_protection_plan       20.400729\n",
       "streaming_movies             20.400729\n",
       "online_security              20.400729\n",
       "avg_monthly_gb_download      20.400729\n",
       "internet_type                20.400729\n",
       "streaming_music              20.400729\n",
       "unlimited_hi-res_streaming   20.400729\n",
       "premium_tech_support         20.400729\n",
       "subscription_type             0.000000\n",
       "payment_method                0.000000\n",
       "monthly_charge                0.000000\n",
       "total_charges                 0.000000\n",
       "total_refunds                 0.000000\n",
       "total_extra_data_charges      0.000000\n",
       "total_long_distance_charges   0.000000\n",
       "total_revenue                 0.000000\n",
       "paperless_billing             0.000000\n",
       "viewer_id                     0.000000\n",
       "gender                        0.000000\n",
       "internet_service              0.000000\n",
       "offer                         0.000000\n",
       "tenure_in_months              0.000000\n",
       "number_of_referrals           0.000000\n",
       "longitude                     0.000000\n",
       "latitude                      0.000000\n",
       "zip_code                      0.000000\n",
       "city                          0.000000\n",
       "number_of_family_dependents   0.000000\n",
       "married                       0.000000\n",
       "age                           0.000000\n",
       "viewer_status                 0.000000"
      ]
     },
     "execution_count": 14,
     "metadata": {},
     "output_type": "execute_result"
    }
   ],
   "source": [
    "na_percent = pd.DataFrame(df.isna().sum()/len(df)*100, columns = ['na%']).sort_values('na%', ascending=False)\n",
    "na_percent"
   ]
  },
  {
   "cell_type": "markdown",
   "id": "94864a4b",
   "metadata": {},
   "source": [
    "since there are multiple columns with the 20.4% of NAs, we could assume they are the same fields across those attributes. As shown, all these columns are YES or NO columns, and we need to figure out the distribution of YES in their columns to guide our way to impute the null values. "
   ]
  },
  {
   "cell_type": "markdown",
   "id": "09d00b23",
   "metadata": {},
   "source": [
    "As stated in the dataset info, the only numerical variable in the dataframe that contains NA is 'avg_monthly_gb_download', so before imputing missing values, we need to figure out its distribution."
   ]
  },
  {
   "cell_type": "code",
   "execution_count": 15,
   "id": "e570f1fc",
   "metadata": {},
   "outputs": [
    {
     "data": {
      "text/plain": [
       "<Axes: xlabel='avg_monthly_gb_download', ylabel='Count'>"
      ]
     },
     "execution_count": 15,
     "metadata": {},
     "output_type": "execute_result"
    },
    {
     "data": {
      "image/png": "[encoded data removed]",
      "text/plain": [
       "<Figure size 640x480 with 1 Axes>"
      ]
     },
     "metadata": {},
     "output_type": "display_data"
    }
   ],
   "source": [
    "sns.histplot(x=df['avg_monthly_gb_download'], bins = 50, kde=True)"
   ]
  },
  {
   "cell_type": "markdown",
   "id": "df4ec3f5",
   "metadata": {},
   "source": [
    "Since the distribution is rather random and right skewed, I decided to impute the missing values using median"
   ]
  },
  {
   "cell_type": "code",
   "execution_count": 16,
   "id": "481fa33e",
   "metadata": {},
   "outputs": [],
   "source": [
    "df['avg_monthly_gb_download'] = df['avg_monthly_gb_download'].fillna(df['avg_monthly_gb_download'].median())"
   ]
  },
  {
   "cell_type": "code",
   "execution_count": 17,
   "id": "bcdf8b44",
   "metadata": {},
   "outputs": [
    {
     "name": "stdout",
     "output_type": "stream",
     "text": [
      "online_backup 0.4356405585913783\n",
      "streaming_tv 0.3926836672738312\n",
      "device_protection_plan 0.4333636915604129\n",
      "streaming_movies 0.3888888888888889\n",
      "online_security 0.49666059502125076\n",
      "avg_monthly_gb_download 0.0\n",
      "internet_type 0.0\n",
      "streaming_music 0.426381299332119\n",
      "unlimited_hi-res_streaming 0.10989678202792957\n",
      "premium_tech_support 0.4930176077717061\n"
     ]
    }
   ],
   "source": [
    "for col in na_percent[na_percent['na%']!=0].index.values:\n",
    "    print(col, len(df[df[col]=='No'])/len(df))"
   ]
  },
  {
   "cell_type": "markdown",
   "id": "c2689fee",
   "metadata": {},
   "source": [
    "Since the distirbution of YES across these columns are uneven, it makes no sense to arbitrarily assign 'YES' or 'NO' to the missing values. We cannot compute the null by the mode since the distribution of YES and NO are not random, also we cannot drop all the missing values since it will cost us 20% of total data. So we decide to turn NaN values to a third type of values which is 'Unknown'. The only exceptions are avg_monthly_gb_downloads and internet type, in which the placeholder 'Unknown' applied to internet type as well and avg_monthly_gb_downloads is imputed using its average."
   ]
  },
  {
   "cell_type": "code",
   "execution_count": 18,
   "id": "e85ae5ef",
   "metadata": {},
   "outputs": [],
   "source": [
    "df = df.fillna('Unknown')"
   ]
  },
  {
   "cell_type": "markdown",
   "id": "29d992ce",
   "metadata": {},
   "source": [
    "Now we are going to visualize some of the interested factor that might be related to the churning of a customer based on domain knowledge.We only care about the part of customer that currently has internet service. Right now, the target column 'Viewer Status' will be converted to 1 and 0 for easier visualization"
   ]
  },
  {
   "cell_type": "code",
   "execution_count": 19,
   "id": "606856ac",
   "metadata": {},
   "outputs": [],
   "source": [
    "df_vis = df[df['internet_service'] == 'Yes']"
   ]
  },
  {
   "cell_type": "code",
   "execution_count": 20,
   "id": "6bdef56e",
   "metadata": {},
   "outputs": [
    {
     "data": {
      "image/png": "[encoded data removed]",
      "text/plain": [
       "<Figure size 2000x1600 with 6 Axes>"
      ]
     },
     "metadata": {},
     "output_type": "display_data"
    }
   ],
   "source": [
    "fig, ax = plt.subplots(3,2, figsize=(20,16))\n",
    "sns.countplot(x=df_vis['gender'], hue = df_vis['viewer_status'], ax=ax[0,0])\n",
    "sns.countplot(x=df_vis['number_of_family_dependents'], hue=df_vis['viewer_status'], ax=ax[0,1])\n",
    "sns.countplot(x=df_vis['city'], hue=df_vis['viewer_status'], ax=ax[1,0])\n",
    "\n",
    "yy = df_vis[df_vis['viewer_status']=='Churned'].groupby('tenure_in_months').count()['viewer_status']\n",
    "sns.regplot(x=df_vis['tenure_in_months'].unique(), y=yy/df_vis.groupby('tenure_in_months').size()*100, ax=ax[1,1])\n",
    "ax[0,0].set_title('Numebr of Churned vs Stayed by Gender')\n",
    "ax[0,1].set_title('Number of Churned vs Stayed by Number of Family Dependents')\n",
    "ax[1,0].set_title('Number of Churned vs Stayed by Cities')\n",
    "ax[1,1].set_title('Tenure Months VS Average Churned Count')\n",
    "ax[1,1].set_xlabel('Tenure in Months')\n",
    "ax[1,1].set_ylabel('Average Churned Count')\n",
    "sns.countplot(x=df_vis['offer'],hue=df_vis['viewer_status'],ax=ax[2,0])\n",
    "sns.countplot(x=df_vis['subscription_type'], hue=df_vis['viewer_status'], ax=ax[2,1])\n",
    "plt.tight_layout()"
   ]
  },
  {
   "cell_type": "markdown",
   "id": "b8a47f26",
   "metadata": {},
   "source": [
    "From the visualization we have the following insights:\n",
    "1. The gender and City of a customer doesn't seem to have an effect on churned rate.\n",
    "\n",
    "2. we could see that as the number of family dependents goes up to above 0, the churn rate decreases dramatically, indicating that customer who are single are more likely to churn that those who already form a family.\n",
    "\n",
    "3. The scatterplot shows that there is a weak negative correlation between tenure in months and average churn rate, which makes sense since more tenure months means higher loyalty with the company, so less likely to leave.\n",
    "\n",
    "4. We could see out of all the offers, offers E got abnormally higher churn than stayed compared to other plan, which is interesting. Also out of all subscription type, month to month got the highest churn rate."
   ]
  },
  {
   "cell_type": "markdown",
   "id": "0f496953",
   "metadata": {},
   "source": [
    "# Data Preprocessing for Model Preparation"
   ]
  },
  {
   "cell_type": "markdown",
   "id": "ff3ca598",
   "metadata": {},
   "source": [
    "for the model we only need the customer that currently have internet services. Also viewer Id should be dropped since it is just a primary key"
   ]
  },
  {
   "cell_type": "code",
   "execution_count": 22,
   "id": "75b56183",
   "metadata": {},
   "outputs": [],
   "source": [
    "df_m = df_vis\n",
    "num_col = df_m.select_dtypes(include=['number']).columns.values\n",
    "cat_col = df_m.select_dtypes(exclude=['number']).columns.values\n",
    "cat_col = cat_col[cat_col != 'viewer_id']"
   ]
  },
  {
   "cell_type": "code",
   "execution_count": 23,
   "id": "37df7796",
   "metadata": {},
   "outputs": [],
   "source": [
    "from sklearn.preprocessing import MinMaxScaler, OneHotEncoder\n",
    "scaler = MinMaxScaler()\n",
    "encoder = OneHotEncoder(sparse_output = False)\n",
    "\n",
    "a = pd.DataFrame(scaler.fit_transform(df_m[num_col]), columns = num_col)\n",
    "b = pd.DataFrame(encoder.fit_transform(df_m[cat_col]), columns = encoder.get_feature_names_out(cat_col))\n",
    "\n",
    "df_m = pd.concat([a,b], axis=1)"
   ]
  },
  {
   "cell_type": "code",
   "execution_count": 25,
   "id": "c4029c20",
   "metadata": {
    "scrolled": true
   },
   "outputs": [
    {
     "data": {
      "text/html": [
       "<div>\n",
       "<style scoped>\n",
       "    .dataframe tbody tr th:only-of-type {\n",
       "        vertical-align: middle;\n",
       "    }\n",
       "\n",
       "    .dataframe tbody tr th {\n",
       "        vertical-align: top;\n",
       "    }\n",
       "\n",
       "    .dataframe thead th {\n",
       "        text-align: right;\n",
       "    }\n",
       "</style>\n",
       "<table border=\"1\" class=\"dataframe\">\n",
       "  <thead>\n",
       "    <tr style=\"text-align: right;\">\n",
       "      <th></th>\n",
       "      <th>age</th>\n",
       "      <th>number_of_family_dependents</th>\n",
       "      <th>zip_code</th>\n",
       "      <th>latitude</th>\n",
       "      <th>longitude</th>\n",
       "      <th>number_of_referrals</th>\n",
       "      <th>tenure_in_months</th>\n",
       "      <th>avg_monthly_gb_download</th>\n",
       "      <th>monthly_charge</th>\n",
       "      <th>total_charges</th>\n",
       "      <th>...</th>\n",
       "      <th>subscription_type_Month-to-Month</th>\n",
       "      <th>subscription_type_One Year</th>\n",
       "      <th>subscription_type_Two Year</th>\n",
       "      <th>paperless_billing_No</th>\n",
       "      <th>paperless_billing_Yes</th>\n",
       "      <th>payment_method_Bank Withdrawal</th>\n",
       "      <th>payment_method_Credit Card</th>\n",
       "      <th>payment_method_Mailed Check</th>\n",
       "      <th>viewer_status_Churned</th>\n",
       "      <th>viewer_status_Stayed</th>\n",
       "    </tr>\n",
       "  </thead>\n",
       "  <tbody>\n",
       "    <tr>\n",
       "      <th>0</th>\n",
       "      <td>0.295082</td>\n",
       "      <td>0.0</td>\n",
       "      <td>0.524313</td>\n",
       "      <td>0.241523</td>\n",
       "      <td>0.524540</td>\n",
       "      <td>0.285714</td>\n",
       "      <td>0.112676</td>\n",
       "      <td>0.168675</td>\n",
       "      <td>0.587184</td>\n",
       "      <td>0.065792</td>\n",
       "      <td>...</td>\n",
       "      <td>0.0</td>\n",
       "      <td>1.0</td>\n",
       "      <td>0.0</td>\n",
       "      <td>0.0</td>\n",
       "      <td>1.0</td>\n",
       "      <td>0.0</td>\n",
       "      <td>1.0</td>\n",
       "      <td>0.0</td>\n",
       "      <td>0.0</td>\n",
       "      <td>1.0</td>\n",
       "    </tr>\n",
       "    <tr>\n",
       "      <th>1</th>\n",
       "      <td>0.442623</td>\n",
       "      <td>0.0</td>\n",
       "      <td>0.195967</td>\n",
       "      <td>0.170810</td>\n",
       "      <td>0.603207</td>\n",
       "      <td>0.000000</td>\n",
       "      <td>0.112676</td>\n",
       "      <td>0.096386</td>\n",
       "      <td>0.046602</td>\n",
       "      <td>0.059916</td>\n",
       "      <td>...</td>\n",
       "      <td>1.0</td>\n",
       "      <td>0.0</td>\n",
       "      <td>0.0</td>\n",
       "      <td>1.0</td>\n",
       "      <td>0.0</td>\n",
       "      <td>0.0</td>\n",
       "      <td>1.0</td>\n",
       "      <td>0.0</td>\n",
       "      <td>0.0</td>\n",
       "      <td>1.0</td>\n",
       "    </tr>\n",
       "  </tbody>\n",
       "</table>\n",
       "<p>2 rows × 58 columns</p>\n",
       "</div>"
      ],
      "text/plain": [
       "        age  number_of_family_dependents  zip_code  latitude  longitude  \\\n",
       "0  0.295082                          0.0  0.524313  0.241523   0.524540   \n",
       "1  0.442623                          0.0  0.195967  0.170810   0.603207   \n",
       "\n",
       "   number_of_referrals  tenure_in_months  avg_monthly_gb_download  \\\n",
       "0             0.285714          0.112676                 0.168675   \n",
       "1             0.000000          0.112676                 0.096386   \n",
       "\n",
       "   monthly_charge  total_charges  ...  subscription_type_Month-to-Month  \\\n",
       "0        0.587184       0.065792  ...                               0.0   \n",
       "1        0.046602       0.059916  ...                               1.0   \n",
       "\n",
       "   subscription_type_One Year  subscription_type_Two Year  \\\n",
       "0                         1.0                         0.0   \n",
       "1                         0.0                         0.0   \n",
       "\n",
       "   paperless_billing_No  paperless_billing_Yes  \\\n",
       "0                   0.0                    1.0   \n",
       "1                   1.0                    0.0   \n",
       "\n",
       "   payment_method_Bank Withdrawal  payment_method_Credit Card  \\\n",
       "0                             0.0                         1.0   \n",
       "1                             0.0                         1.0   \n",
       "\n",
       "   payment_method_Mailed Check  viewer_status_Churned  viewer_status_Stayed  \n",
       "0                          0.0                    0.0                   1.0  \n",
       "1                          0.0                    0.0                   1.0  \n",
       "\n",
       "[2 rows x 58 columns]"
      ]
     },
     "execution_count": 25,
     "metadata": {},
     "output_type": "execute_result"
    }
   ],
   "source": [
    "df_m.head(2)"
   ]
  },
  {
   "cell_type": "markdown",
   "id": "03d52093",
   "metadata": {},
   "source": [
    "From now on we need to decompose the data using PCA before feeding into K mean cluster. For the optimal number of clusters and K we could run elbow method for each one of them and select the optimal one."
   ]
  },
  {
   "cell_type": "code",
   "execution_count": 37,
   "id": "a3e7ae5f",
   "metadata": {},
   "outputs": [
    {
     "data": {
      "image/png": "[encoded data removed]",
      "text/plain": [
       "<Figure size 1000x600 with 1 Axes>"
      ]
     },
     "metadata": {},
     "output_type": "display_data"
    },
    {
     "name": "stdout",
     "output_type": "stream",
     "text": [
      "Number of Principal Component to cover at least 95% of variance is:  24\n"
     ]
    }
   ],
   "source": [
    "from sklearn.decomposition import PCA\n",
    "\n",
    "# Perform PCA without reducing dimensionality to find explained variance of each component\n",
    "pca_graph = PCA()\n",
    "pca_graph.fit(df_m)\n",
    "\n",
    "# Get the explained variance ratio\n",
    "explained_variance_ratio = pca_graph.explained_variance_ratio_\n",
    "\n",
    "# Plot the explained variance\n",
    "plt.figure(figsize=(10, 6))\n",
    "plt.bar(range(1, len(explained_variance_ratio) + 1), explained_variance_ratio)\n",
    "plt.xlabel('Principal Component')\n",
    "plt.ylabel('Explained Variance Ratio')\n",
    "plt.title('Explained Variance by Each Principal Component')\n",
    "plt.show()\n",
    "\n",
    "\n",
    "pca = PCA().fit(df_m)\n",
    "explained_var = np.cumsum(pca.explained_variance_ratio_)\n",
    "n_components = np.argmax(explained_var >= 0.95) + 1 \n",
    "print('Number of Principal Component to cover at least 95% of variance is: ', n_components)\n"
   ]
  },
  {
   "cell_type": "code",
   "execution_count": 42,
   "id": "808d03e4",
   "metadata": {},
   "outputs": [],
   "source": [
    "pca_op = PCA(n_components = 24)\n",
    "df_pca = pca_op.fit_transform(df_m)"
   ]
  },
  {
   "cell_type": "code",
   "execution_count": 43,
   "id": "28705363",
   "metadata": {},
   "outputs": [
    {
     "name": "stderr",
     "output_type": "stream",
     "text": [
      "/Users/sunnypzz/anaconda3/lib/python3.11/site-packages/sklearn/cluster/_kmeans.py:1412: FutureWarning: The default value of `n_init` will change from 10 to 'auto' in 1.4. Set the value of `n_init` explicitly to suppress the warning\n",
      "  super()._check_params_vs_input(X, default_n_init=10)\n",
      "/Users/sunnypzz/anaconda3/lib/python3.11/site-packages/sklearn/cluster/_kmeans.py:1412: FutureWarning: The default value of `n_init` will change from 10 to 'auto' in 1.4. Set the value of `n_init` explicitly to suppress the warning\n",
      "  super()._check_params_vs_input(X, default_n_init=10)\n",
      "/Users/sunnypzz/anaconda3/lib/python3.11/site-packages/sklearn/cluster/_kmeans.py:1412: FutureWarning: The default value of `n_init` will change from 10 to 'auto' in 1.4. Set the value of `n_init` explicitly to suppress the warning\n",
      "  super()._check_params_vs_input(X, default_n_init=10)\n",
      "/Users/sunnypzz/anaconda3/lib/python3.11/site-packages/sklearn/cluster/_kmeans.py:1412: FutureWarning: The default value of `n_init` will change from 10 to 'auto' in 1.4. Set the value of `n_init` explicitly to suppress the warning\n",
      "  super()._check_params_vs_input(X, default_n_init=10)\n",
      "/Users/sunnypzz/anaconda3/lib/python3.11/site-packages/sklearn/cluster/_kmeans.py:1412: FutureWarning: The default value of `n_init` will change from 10 to 'auto' in 1.4. Set the value of `n_init` explicitly to suppress the warning\n",
      "  super()._check_params_vs_input(X, default_n_init=10)\n",
      "/Users/sunnypzz/anaconda3/lib/python3.11/site-packages/sklearn/cluster/_kmeans.py:1412: FutureWarning: The default value of `n_init` will change from 10 to 'auto' in 1.4. Set the value of `n_init` explicitly to suppress the warning\n",
      "  super()._check_params_vs_input(X, default_n_init=10)\n",
      "/Users/sunnypzz/anaconda3/lib/python3.11/site-packages/sklearn/cluster/_kmeans.py:1412: FutureWarning: The default value of `n_init` will change from 10 to 'auto' in 1.4. Set the value of `n_init` explicitly to suppress the warning\n",
      "  super()._check_params_vs_input(X, default_n_init=10)\n",
      "/Users/sunnypzz/anaconda3/lib/python3.11/site-packages/sklearn/cluster/_kmeans.py:1412: FutureWarning: The default value of `n_init` will change from 10 to 'auto' in 1.4. Set the value of `n_init` explicitly to suppress the warning\n",
      "  super()._check_params_vs_input(X, default_n_init=10)\n",
      "/Users/sunnypzz/anaconda3/lib/python3.11/site-packages/sklearn/cluster/_kmeans.py:1412: FutureWarning: The default value of `n_init` will change from 10 to 'auto' in 1.4. Set the value of `n_init` explicitly to suppress the warning\n",
      "  super()._check_params_vs_input(X, default_n_init=10)\n",
      "/Users/sunnypzz/anaconda3/lib/python3.11/site-packages/sklearn/cluster/_kmeans.py:1412: FutureWarning: The default value of `n_init` will change from 10 to 'auto' in 1.4. Set the value of `n_init` explicitly to suppress the warning\n",
      "  super()._check_params_vs_input(X, default_n_init=10)\n"
     ]
    }
   ],
   "source": [
    "from sklearn.cluster import KMeans\n",
    "inertia = []\n",
    "cluster_range = range(1,11)\n",
    "for k in cluster_range:\n",
    "    models = KMeans(n_clusters = k, random_state =42)\n",
    "    models.fit(df_pca)\n",
    "    inertia.append(models.inertia_)"
   ]
  },
  {
   "cell_type": "code",
   "execution_count": 44,
   "id": "eb201ff6",
   "metadata": {},
   "outputs": [
    {
     "data": {
      "text/plain": [
       "<Axes: >"
      ]
     },
     "execution_count": 44,
     "metadata": {},
     "output_type": "execute_result"
    },
    {
     "data": {
      "image/png": "[encoded data removed]",
      "text/plain": [
       "<Figure size 640x480 with 1 Axes>"
      ]
     },
     "metadata": {},
     "output_type": "display_data"
    }
   ],
   "source": [
    "sns.lineplot(x=cluster_range, y=inertia)\n",
    "sns.scatterplot(x=cluster_range, y=inertia)"
   ]
  },
  {
   "cell_type": "markdown",
   "id": "30de38fb",
   "metadata": {},
   "source": [
    "Based on elbow method illustration, the elbow is located on the cluster number 4 so that makes it the optimal number of cluster to do the clustering analysis. I will then make a clustering using 4 clusters and assign the label of cluster back to the original dataset to analyze customer profile"
   ]
  },
  {
   "cell_type": "code",
   "execution_count": 53,
   "id": "7f4b8e21",
   "metadata": {
    "scrolled": true
   },
   "outputs": [
    {
     "name": "stderr",
     "output_type": "stream",
     "text": [
      "/Users/sunnypzz/anaconda3/lib/python3.11/site-packages/sklearn/cluster/_kmeans.py:1412: FutureWarning: The default value of `n_init` will change from 10 to 'auto' in 1.4. Set the value of `n_init` explicitly to suppress the warning\n",
      "  super()._check_params_vs_input(X, default_n_init=10)\n",
      "/var/folders/_2/47pvc7c50m55gyqf8fg6frzm0000gn/T/ipykernel_99496/2553744391.py:7: SettingWithCopyWarning: \n",
      "A value is trying to be set on a copy of a slice from a DataFrame.\n",
      "Try using .loc[row_indexer,col_indexer] = value instead\n",
      "\n",
      "See the caveats in the documentation: https://pandas.pydata.org/pandas-docs/stable/user_guide/indexing.html#returning-a-view-versus-a-copy\n",
      "  df_cluster['Cluster Label'] = k_op.labels_\n"
     ]
    }
   ],
   "source": [
    "k_op = KMeans(n_clusters = 4, random_state = 42)\n",
    "k_op.fit(df_pca)\n",
    "k_op.labels_\n",
    "\n",
    "# Assign the cluster label back to the original dataset \n",
    "df_cluster = df_vis\n",
    "df_cluster['Cluster Label'] = k_op.labels_"
   ]
  },
  {
   "cell_type": "code",
   "execution_count": 60,
   "id": "f48eec8a",
   "metadata": {},
   "outputs": [
    {
     "data": {
      "text/plain": [
       "Text(0.5, 1.0, 'Stayed vs Churned Grouping by Clustering Label')"
      ]
     },
     "execution_count": 60,
     "metadata": {},
     "output_type": "execute_result"
    },
    {
     "data": {
      "image/png": "[encoded data removed]",
      "text/plain": [
       "<Figure size 640x480 with 1 Axes>"
      ]
     },
     "metadata": {},
     "output_type": "display_data"
    }
   ],
   "source": [
    "sns.countplot(x=df_cluster['Cluster Label'], hue=df_cluster['viewer_status'])\n",
    "plt.title('Stayed vs Churned Grouping by Clustering Label')"
   ]
  },
  {
   "cell_type": "markdown",
   "id": "cc58441a",
   "metadata": {},
   "source": [
    "From here we could see that obviously cluster 1 and 2 have very little churned but for cluster 3 and 4 customer are more inclined to churn. For the sake of simplicity, we will just see how the numerical customer profile are different between these four clusters"
   ]
  },
  {
   "cell_type": "code",
   "execution_count": 70,
   "id": "4fc5bcf8",
   "metadata": {},
   "outputs": [
    {
     "data": {
      "text/plain": [
       "array(['age', 'number_of_family_dependents', 'zip_code', 'latitude',\n",
       "       'longitude', 'number_of_referrals', 'tenure_in_months',\n",
       "       'avg_monthly_gb_download', 'monthly_charge', 'total_charges',\n",
       "       'total_refunds', 'total_extra_data_charges',\n",
       "       'total_long_distance_charges', 'total_revenue', 'Cluster Label'],\n",
       "      dtype=object)"
      ]
     },
     "execution_count": 70,
     "metadata": {},
     "output_type": "execute_result"
    }
   ],
   "source": [
    "df_cluster.select_dtypes(include=['number']).columns.values"
   ]
  },
  {
   "cell_type": "code",
   "execution_count": 72,
   "id": "5e66f25c",
   "metadata": {},
   "outputs": [
    {
     "data": {
      "text/html": [
       "<div>\n",
       "<style scoped>\n",
       "    .dataframe tbody tr th:only-of-type {\n",
       "        vertical-align: middle;\n",
       "    }\n",
       "\n",
       "    .dataframe tbody tr th {\n",
       "        vertical-align: top;\n",
       "    }\n",
       "\n",
       "    .dataframe thead th {\n",
       "        text-align: right;\n",
       "    }\n",
       "</style>\n",
       "<table border=\"1\" class=\"dataframe\">\n",
       "  <thead>\n",
       "    <tr style=\"text-align: right;\">\n",
       "      <th></th>\n",
       "      <th>age</th>\n",
       "      <th>number_of_family_dependents</th>\n",
       "      <th>zip_code</th>\n",
       "      <th>latitude</th>\n",
       "      <th>longitude</th>\n",
       "      <th>number_of_referrals</th>\n",
       "      <th>tenure_in_months</th>\n",
       "      <th>avg_monthly_gb_download</th>\n",
       "      <th>monthly_charge</th>\n",
       "      <th>total_charges</th>\n",
       "      <th>total_refunds</th>\n",
       "      <th>total_extra_data_charges</th>\n",
       "      <th>total_long_distance_charges</th>\n",
       "      <th>total_revenue</th>\n",
       "    </tr>\n",
       "    <tr>\n",
       "      <th>Cluster Label</th>\n",
       "      <th></th>\n",
       "      <th></th>\n",
       "      <th></th>\n",
       "      <th></th>\n",
       "      <th></th>\n",
       "      <th></th>\n",
       "      <th></th>\n",
       "      <th></th>\n",
       "      <th></th>\n",
       "      <th></th>\n",
       "      <th></th>\n",
       "      <th></th>\n",
       "      <th></th>\n",
       "      <th></th>\n",
       "    </tr>\n",
       "  </thead>\n",
       "  <tbody>\n",
       "    <tr>\n",
       "      <th>0</th>\n",
       "      <td>47.076989</td>\n",
       "      <td>0.600513</td>\n",
       "      <td>93478.792130</td>\n",
       "      <td>36.229093</td>\n",
       "      <td>-119.727719</td>\n",
       "      <td>1.972092</td>\n",
       "      <td>42.363559</td>\n",
       "      <td>26.925577</td>\n",
       "      <td>65.610693</td>\n",
       "      <td>2942.460821</td>\n",
       "      <td>2.784876</td>\n",
       "      <td>10.094098</td>\n",
       "      <td>903.506792</td>\n",
       "      <td>3853.276835</td>\n",
       "    </tr>\n",
       "    <tr>\n",
       "      <th>1</th>\n",
       "      <td>45.925718</td>\n",
       "      <td>0.557113</td>\n",
       "      <td>93530.854240</td>\n",
       "      <td>36.256061</td>\n",
       "      <td>-119.817843</td>\n",
       "      <td>2.071346</td>\n",
       "      <td>56.854940</td>\n",
       "      <td>28.566924</td>\n",
       "      <td>89.569096</td>\n",
       "      <td>5256.728837</td>\n",
       "      <td>2.169916</td>\n",
       "      <td>10.399439</td>\n",
       "      <td>1311.197162</td>\n",
       "      <td>6576.155522</td>\n",
       "    </tr>\n",
       "    <tr>\n",
       "      <th>2</th>\n",
       "      <td>48.364842</td>\n",
       "      <td>0.199834</td>\n",
       "      <td>93467.085406</td>\n",
       "      <td>36.101992</td>\n",
       "      <td>-119.669773</td>\n",
       "      <td>0.720644</td>\n",
       "      <td>25.012438</td>\n",
       "      <td>25.045605</td>\n",
       "      <td>85.273756</td>\n",
       "      <td>2220.965713</td>\n",
       "      <td>2.056169</td>\n",
       "      <td>9.875622</td>\n",
       "      <td>584.037231</td>\n",
       "      <td>2812.822396</td>\n",
       "    </tr>\n",
       "    <tr>\n",
       "      <th>3</th>\n",
       "      <td>49.408460</td>\n",
       "      <td>0.233010</td>\n",
       "      <td>93430.961859</td>\n",
       "      <td>36.061945</td>\n",
       "      <td>-119.661837</td>\n",
       "      <td>0.485314</td>\n",
       "      <td>13.898752</td>\n",
       "      <td>24.337725</td>\n",
       "      <td>64.622573</td>\n",
       "      <td>964.500312</td>\n",
       "      <td>1.633599</td>\n",
       "      <td>6.026352</td>\n",
       "      <td>317.316234</td>\n",
       "      <td>1286.209300</td>\n",
       "    </tr>\n",
       "  </tbody>\n",
       "</table>\n",
       "</div>"
      ],
      "text/plain": [
       "                     age  number_of_family_dependents      zip_code  \\\n",
       "Cluster Label                                                         \n",
       "0              47.076989                     0.600513  93478.792130   \n",
       "1              45.925718                     0.557113  93530.854240   \n",
       "2              48.364842                     0.199834  93467.085406   \n",
       "3              49.408460                     0.233010  93430.961859   \n",
       "\n",
       "                latitude   longitude  number_of_referrals  tenure_in_months  \\\n",
       "Cluster Label                                                                 \n",
       "0              36.229093 -119.727719             1.972092         42.363559   \n",
       "1              36.256061 -119.817843             2.071346         56.854940   \n",
       "2              36.101992 -119.669773             0.720644         25.012438   \n",
       "3              36.061945 -119.661837             0.485314         13.898752   \n",
       "\n",
       "               avg_monthly_gb_download  monthly_charge  total_charges  \\\n",
       "Cluster Label                                                           \n",
       "0                            26.925577       65.610693    2942.460821   \n",
       "1                            28.566924       89.569096    5256.728837   \n",
       "2                            25.045605       85.273756    2220.965713   \n",
       "3                            24.337725       64.622573     964.500312   \n",
       "\n",
       "               total_refunds  total_extra_data_charges  \\\n",
       "Cluster Label                                            \n",
       "0                   2.784876                 10.094098   \n",
       "1                   2.169916                 10.399439   \n",
       "2                   2.056169                  9.875622   \n",
       "3                   1.633599                  6.026352   \n",
       "\n",
       "               total_long_distance_charges  total_revenue  \n",
       "Cluster Label                                              \n",
       "0                               903.506792    3853.276835  \n",
       "1                              1311.197162    6576.155522  \n",
       "2                               584.037231    2812.822396  \n",
       "3                               317.316234    1286.209300  "
      ]
     },
     "execution_count": 72,
     "metadata": {},
     "output_type": "execute_result"
    }
   ],
   "source": [
    "df_cluster[df_cluster.select_dtypes(include=['number']).columns.values].groupby('Cluster Label').mean()"
   ]
  },
  {
   "cell_type": "markdown",
   "id": "0d5933b8",
   "metadata": {},
   "source": [
    "we could see that based on the average of numerical profile, the result aligns with our EDA in which those with larger number_of_family_dependent, higher tenure months, and higer number of referrals are less likely to churn. The new finding is that those with higher refund, total long distance charges, and total_revenue will have less churn rate too."
   ]
  },
  {
   "cell_type": "code",
   "execution_count": 82,
   "id": "f3fb4996",
   "metadata": {},
   "outputs": [
    {
     "data": {
      "text/plain": [
       "<5244x5288 sparse matrix of type '<class 'numpy.float64'>'\n",
       "\twith 99636 stored elements in Compressed Sparse Row format>"
      ]
     },
     "execution_count": 82,
     "metadata": {},
     "output_type": "execute_result"
    }
   ],
   "source": [
    "cat_en"
   ]
  },
  {
   "cell_type": "code",
   "execution_count": 88,
   "id": "5b641021",
   "metadata": {},
   "outputs": [
    {
     "data": {
      "text/plain": [
       "Index(['viewer_id', 'gender', 'married', 'city', 'offer', 'internet_service',\n",
       "       'internet_type', 'online_security', 'online_backup',\n",
       "       'device_protection_plan', 'premium_tech_support', 'streaming_tv',\n",
       "       'streaming_movies', 'streaming_music', 'unlimited_hi-res_streaming',\n",
       "       'subscription_type', 'paperless_billing', 'payment_method',\n",
       "       'viewer_status'],\n",
       "      dtype='object')"
      ]
     },
     "execution_count": 88,
     "metadata": {},
     "output_type": "execute_result"
    }
   ],
   "source": [
    "df_vis.select_dtypes(exclude=['number']).columns"
   ]
  },
  {
   "cell_type": "code",
   "execution_count": 107,
   "id": "a1226ff3",
   "metadata": {},
   "outputs": [
    {
     "name": "stderr",
     "output_type": "stream",
     "text": [
      "/Users/sunnypzz/anaconda3/lib/python3.11/site-packages/sklearn/preprocessing/_encoders.py:972: FutureWarning: `sparse` was renamed to `sparse_output` in version 1.2 and will be removed in 1.4. `sparse_output` is ignored unless you leave `sparse` to its default value.\n",
      "  warnings.warn(\n"
     ]
    },
    {
     "data": {
      "text/html": [
       "<div>\n",
       "<style scoped>\n",
       "    .dataframe tbody tr th:only-of-type {\n",
       "        vertical-align: middle;\n",
       "    }\n",
       "\n",
       "    .dataframe tbody tr th {\n",
       "        vertical-align: top;\n",
       "    }\n",
       "\n",
       "    .dataframe thead th {\n",
       "        text-align: right;\n",
       "    }\n",
       "</style>\n",
       "<table border=\"1\" class=\"dataframe\">\n",
       "  <thead>\n",
       "    <tr style=\"text-align: right;\">\n",
       "      <th></th>\n",
       "      <th>gender_Female</th>\n",
       "      <th>gender_Male</th>\n",
       "      <th>married_No</th>\n",
       "      <th>married_Yes</th>\n",
       "      <th>city_LA</th>\n",
       "      <th>city_SD</th>\n",
       "      <th>city_SF</th>\n",
       "      <th>city_SJ</th>\n",
       "      <th>offer_None</th>\n",
       "      <th>offer_Offer A</th>\n",
       "      <th>...</th>\n",
       "      <th>subscription_type_Month-to-Month</th>\n",
       "      <th>subscription_type_One Year</th>\n",
       "      <th>subscription_type_Two Year</th>\n",
       "      <th>paperless_billing_No</th>\n",
       "      <th>paperless_billing_Yes</th>\n",
       "      <th>payment_method_Bank Withdrawal</th>\n",
       "      <th>payment_method_Credit Card</th>\n",
       "      <th>payment_method_Mailed Check</th>\n",
       "      <th>viewer_status_Churned</th>\n",
       "      <th>viewer_status_Stayed</th>\n",
       "    </tr>\n",
       "    <tr>\n",
       "      <th>Cluster</th>\n",
       "      <th></th>\n",
       "      <th></th>\n",
       "      <th></th>\n",
       "      <th></th>\n",
       "      <th></th>\n",
       "      <th></th>\n",
       "      <th></th>\n",
       "      <th></th>\n",
       "      <th></th>\n",
       "      <th></th>\n",
       "      <th></th>\n",
       "      <th></th>\n",
       "      <th></th>\n",
       "      <th></th>\n",
       "      <th></th>\n",
       "      <th></th>\n",
       "      <th></th>\n",
       "      <th></th>\n",
       "      <th></th>\n",
       "      <th></th>\n",
       "      <th></th>\n",
       "    </tr>\n",
       "  </thead>\n",
       "  <tbody>\n",
       "    <tr>\n",
       "      <th>0</th>\n",
       "      <td>549.0</td>\n",
       "      <td>620.0</td>\n",
       "      <td>436.0</td>\n",
       "      <td>733.0</td>\n",
       "      <td>55.0</td>\n",
       "      <td>627.0</td>\n",
       "      <td>193.0</td>\n",
       "      <td>294.0</td>\n",
       "      <td>638.0</td>\n",
       "      <td>108.0</td>\n",
       "      <td>...</td>\n",
       "      <td>362.0</td>\n",
       "      <td>460.0</td>\n",
       "      <td>347.0</td>\n",
       "      <td>570.0</td>\n",
       "      <td>599.0</td>\n",
       "      <td>569.0</td>\n",
       "      <td>551.0</td>\n",
       "      <td>49.0</td>\n",
       "      <td>48.0</td>\n",
       "      <td>1121.0</td>\n",
       "    </tr>\n",
       "    <tr>\n",
       "      <th>1</th>\n",
       "      <td>734.0</td>\n",
       "      <td>693.0</td>\n",
       "      <td>409.0</td>\n",
       "      <td>1018.0</td>\n",
       "      <td>53.0</td>\n",
       "      <td>798.0</td>\n",
       "      <td>248.0</td>\n",
       "      <td>328.0</td>\n",
       "      <td>725.0</td>\n",
       "      <td>308.0</td>\n",
       "      <td>...</td>\n",
       "      <td>113.0</td>\n",
       "      <td>523.0</td>\n",
       "      <td>791.0</td>\n",
       "      <td>489.0</td>\n",
       "      <td>938.0</td>\n",
       "      <td>801.0</td>\n",
       "      <td>590.0</td>\n",
       "      <td>36.0</td>\n",
       "      <td>98.0</td>\n",
       "      <td>1329.0</td>\n",
       "    </tr>\n",
       "    <tr>\n",
       "      <th>2</th>\n",
       "      <td>599.0</td>\n",
       "      <td>607.0</td>\n",
       "      <td>745.0</td>\n",
       "      <td>461.0</td>\n",
       "      <td>45.0</td>\n",
       "      <td>717.0</td>\n",
       "      <td>197.0</td>\n",
       "      <td>247.0</td>\n",
       "      <td>709.0</td>\n",
       "      <td>10.0</td>\n",
       "      <td>...</td>\n",
       "      <td>1008.0</td>\n",
       "      <td>152.0</td>\n",
       "      <td>46.0</td>\n",
       "      <td>221.0</td>\n",
       "      <td>985.0</td>\n",
       "      <td>945.0</td>\n",
       "      <td>223.0</td>\n",
       "      <td>38.0</td>\n",
       "      <td>702.0</td>\n",
       "      <td>504.0</td>\n",
       "    </tr>\n",
       "    <tr>\n",
       "      <th>3</th>\n",
       "      <td>729.0</td>\n",
       "      <td>713.0</td>\n",
       "      <td>1042.0</td>\n",
       "      <td>400.0</td>\n",
       "      <td>61.0</td>\n",
       "      <td>863.0</td>\n",
       "      <td>219.0</td>\n",
       "      <td>299.0</td>\n",
       "      <td>796.0</td>\n",
       "      <td>1.0</td>\n",
       "      <td>...</td>\n",
       "      <td>1363.0</td>\n",
       "      <td>40.0</td>\n",
       "      <td>39.0</td>\n",
       "      <td>388.0</td>\n",
       "      <td>1054.0</td>\n",
       "      <td>993.0</td>\n",
       "      <td>350.0</td>\n",
       "      <td>99.0</td>\n",
       "      <td>908.0</td>\n",
       "      <td>534.0</td>\n",
       "    </tr>\n",
       "  </tbody>\n",
       "</table>\n",
       "<p>4 rows × 44 columns</p>\n",
       "</div>"
      ],
      "text/plain": [
       "         gender_Female  gender_Male  married_No  married_Yes  city_LA  \\\n",
       "Cluster                                                                 \n",
       "0                549.0        620.0       436.0        733.0     55.0   \n",
       "1                734.0        693.0       409.0       1018.0     53.0   \n",
       "2                599.0        607.0       745.0        461.0     45.0   \n",
       "3                729.0        713.0      1042.0        400.0     61.0   \n",
       "\n",
       "         city_SD  city_SF  city_SJ  offer_None  offer_Offer A  ...  \\\n",
       "Cluster                                                        ...   \n",
       "0          627.0    193.0    294.0       638.0          108.0  ...   \n",
       "1          798.0    248.0    328.0       725.0          308.0  ...   \n",
       "2          717.0    197.0    247.0       709.0           10.0  ...   \n",
       "3          863.0    219.0    299.0       796.0            1.0  ...   \n",
       "\n",
       "         subscription_type_Month-to-Month  subscription_type_One Year  \\\n",
       "Cluster                                                                 \n",
       "0                                   362.0                       460.0   \n",
       "1                                   113.0                       523.0   \n",
       "2                                  1008.0                       152.0   \n",
       "3                                  1363.0                        40.0   \n",
       "\n",
       "         subscription_type_Two Year  paperless_billing_No  \\\n",
       "Cluster                                                     \n",
       "0                             347.0                 570.0   \n",
       "1                             791.0                 489.0   \n",
       "2                              46.0                 221.0   \n",
       "3                              39.0                 388.0   \n",
       "\n",
       "         paperless_billing_Yes  payment_method_Bank Withdrawal  \\\n",
       "Cluster                                                          \n",
       "0                        599.0                           569.0   \n",
       "1                        938.0                           801.0   \n",
       "2                        985.0                           945.0   \n",
       "3                       1054.0                           993.0   \n",
       "\n",
       "         payment_method_Credit Card  payment_method_Mailed Check  \\\n",
       "Cluster                                                            \n",
       "0                             551.0                         49.0   \n",
       "1                             590.0                         36.0   \n",
       "2                             223.0                         38.0   \n",
       "3                             350.0                         99.0   \n",
       "\n",
       "         viewer_status_Churned  viewer_status_Stayed  \n",
       "Cluster                                               \n",
       "0                         48.0                1121.0  \n",
       "1                         98.0                1329.0  \n",
       "2                        702.0                 504.0  \n",
       "3                        908.0                 534.0  \n",
       "\n",
       "[4 rows x 44 columns]"
      ]
     },
     "execution_count": 107,
     "metadata": {},
     "output_type": "execute_result"
    }
   ],
   "source": [
    "encoder = OneHotEncoder(sparse = False)\n",
    "\n",
    "cat_col = df_vis.select_dtypes(exclude=['number']).columns.values\n",
    "cat_col = cat_col[cat_col!='viewer_id']\n",
    "\n",
    "cat_en = encoder.fit_transform(df_vis[cat_col])\n",
    "\n",
    "df_cat = pd.DataFrame(cat_en, columns = encoder.get_feature_names_out(cat_col))\n",
    "df_cat['Cluster'] = k_op.labels_\n",
    "df_cat.groupby('Cluster').sum()"
   ]
  },
  {
   "cell_type": "markdown",
   "id": "44f06ea0",
   "metadata": {},
   "source": [
    "we could also sees that married or not, Month to Month Subscription, payment_method are also some important categorical variable."
   ]
  },
  {
   "cell_type": "markdown",
   "id": "cea29bbd",
   "metadata": {},
   "source": [
    "# Supervised Machine Learning Model"
   ]
  },
  {
   "cell_type": "code",
   "execution_count": 221,
   "id": "189f2717",
   "metadata": {},
   "outputs": [],
   "source": [
    "df_pred = df[df['internet_service'] == 'Yes']\n",
    "df_pred = df_pred.iloc[:, :-1]\n",
    "df_pred.drop('viewer_id', axis=1,inplace=True)"
   ]
  },
  {
   "cell_type": "code",
   "execution_count": 225,
   "id": "734bf3fd",
   "metadata": {
    "scrolled": true
   },
   "outputs": [],
   "source": [
    "scaler = MinMaxScaler()\n",
    "encoder = OneHotEncoder(sparse_output = False)\n",
    "\n",
    "num_col = df_pred.select_dtypes(include=['number']).columns.values\n",
    "cat_col = df_pred.select_dtypes(exclude=['number']).columns.values\n",
    "\n",
    "a = pd.DataFrame(scaler.fit_transform(df_pred[num_col]), columns = num_col)\n",
    "b = pd.DataFrame(encoder.fit_transform(df_pred[cat_col]), columns = encoder.get_feature_names_out(cat_col))\n",
    "\n",
    "df_pred = pd.concat([a,b],axis=1)"
   ]
  },
  {
   "cell_type": "markdown",
   "id": "aa344268",
   "metadata": {},
   "source": [
    "# Feature Selection for Logistic Regression"
   ]
  },
  {
   "cell_type": "markdown",
   "id": "000b54d5",
   "metadata": {},
   "source": [
    "For the logistic regression, the features are selected based on the combination of insight coming from clustering analysis and EDA, since logistic regression essentially squeeze the linear equation function into a logit function, so we have to avoid collinearity between variables\n",
    "\n",
    "For example, as EDA suggested, as one get at least one family memeber, its churn rate will dramatically decreases, so we only need to include the married variable instead of adding number of family dependents. Also, total_revenue is the linear transformation of refunds, total charges, total extra charges, and total long distance charges, so we only need to include total revenue.\n",
    "\n",
    "For the categorical varible, some of them are shown to be related to churn in EDA and clustering analysis.\n",
    "\n",
    "\n",
    "\n",
    "\n",
    "For Random Forest, since the model inherently helps feature selection, I would rather include all the features to let it figure out what are the importance features so I could compare to my own feature selections."
   ]
  },
  {
   "cell_type": "code",
   "execution_count": 233,
   "id": "d42a4c50",
   "metadata": {},
   "outputs": [],
   "source": [
    "selected_feature_for_lg = ['married', 'number_of_referrals', 'tenure_in_months','offer', 'online_security', 'online_backup',\n",
    "                          'device_protection_plan', 'premium_tech_support', 'streaming_tv','streaming_movies','streaming_music',\n",
    "                          'unlimited_hi-res_streaming', 'subscription_type', 'payment_method', 'monthly_charge', 'total_revenue']"
   ]
  },
  {
   "cell_type": "code",
   "execution_count": 234,
   "id": "4f199f86",
   "metadata": {},
   "outputs": [],
   "source": [
    "df_lg = df[df['internet_service']=='Yes']\n",
    "df_lg_pred = df_lg[selected_feature_for_lg]\n",
    "num_col = df_lg_pred.select_dtypes(include=['number']).columns.values\n",
    "cat_col = df_lg_pred.select_dtypes(exclude=['number']).columns.values\n",
    "\n",
    "a = pd.DataFrame(scaler.fit_transform(df_lg_pred[num_col]), columns = num_col)\n",
    "b = pd.DataFrame(encoder.fit_transform(df_lg_pred[cat_col]), columns = encoder.get_feature_names_out(cat_col))\n",
    "\n",
    "df_lg_pred = pd.concat([a,b], axis = 1)"
   ]
  },
  {
   "cell_type": "markdown",
   "id": "770223e8",
   "metadata": {},
   "source": [
    "To avoid overfitting, I limit the complexity of the tree by limiting the max_depth, min_samples_split, and min_sample_leaf. For logistic regression I did regularization of C = 0.2"
   ]
  },
  {
   "cell_type": "code",
   "execution_count": 243,
   "id": "eb83fba6",
   "metadata": {},
   "outputs": [
    {
     "name": "stdout",
     "output_type": "stream",
     "text": [
      "Logistic Regression Accuracy: 0.8112488083889419\n",
      "Random Forest Accuracy: 0.8017159199237369\n"
     ]
    }
   ],
   "source": [
    "from sklearn.model_selection import train_test_split\n",
    "from sklearn.linear_model import LogisticRegression\n",
    "from sklearn.ensemble import RandomForestClassifier\n",
    "from sklearn.metrics import accuracy_score\n",
    "\n",
    "\n",
    "\n",
    "X, y = df_pred, df[df['internet_service']=='Yes']['viewer_status']\n",
    "\n",
    "X_train, X_test, y_train, y_test = train_test_split(X, y, test_size=0.2, random_state=42)\n",
    "\n",
    "Xl, yl = df_lg_pred, df[df['internet_service']=='Yes']['viewer_status']\n",
    "\n",
    "X_train_lg, X_test_lg, y_train_lg, y_test_lg = train_test_split(Xl, yl, test_size=0.2, random_state=42)\n",
    "\n",
    "\n",
    "\n",
    "logistic_model = LogisticRegression(C=0.2)\n",
    "logistic_model.fit(X_train_lg, y_train_lg)\n",
    "\n",
    "# Make predictions and evaluate Logistic Regression model\n",
    "y_pred_logistic = logistic_model.predict(X_test_lg)\n",
    "accuracy_logistic = accuracy_score(y_test_lg, y_pred_logistic)\n",
    "print(f\"Logistic Regression Accuracy: {accuracy_logistic}\")\n",
    "\n",
    "# Initialize and fit Random Forest model\n",
    "random_forest_model = RandomForestClassifier(max_depth=5, min_samples_split=10, min_samples_leaf=5)\n",
    "random_forest_model.fit(X_train, y_train)\n",
    "\n",
    "# Make predictions and evaluate Random Forest model\n",
    "y_pred_rf = random_forest_model.predict(X_test)\n",
    "accuracy_rf = accuracy_score(y_test, y_pred_rf)\n",
    "print(f\"Random Forest Accuracy: {accuracy_rf}\")"
   ]
  },
  {
   "cell_type": "markdown",
   "id": "ccd2d2fc",
   "metadata": {},
   "source": [
    "The accuracy metric for both models are pretty similar, which is a decent result considering the limit of overfitting. it also indicates that my feature selected for logistic regression should be covering most of the variance of the data"
   ]
  },
  {
   "cell_type": "markdown",
   "id": "d938bf0d",
   "metadata": {},
   "source": [
    "# Business Insight and Recommendation"
   ]
  },
  {
   "cell_type": "markdown",
   "id": "b176c9fa",
   "metadata": {},
   "source": [
    "Since churned is marked as 1 so to rank importance of coefficient we need to do a ascending order of coefs. Also because of encoded columns, the coef name could just be interpreted by its original meaning. For example, offer-OfferD could be just considered as OFFER effects on churn.\n",
    "\n",
    "Since RF does a different way of representing its feature importance, so a desceding order of importance is more appropriate. \n",
    "\n",
    "From both model we could see that they share the varibles: number of referrals, tenure_in_months, subscription type. So My recommendation to the service company is to find ways to boost numebr of referrals or provide more attractive subscription type for customer so they will be less likely to churn. Also, the offers and payment method matter too as those uses credit cards are less likely to churn and those with offer E is very likely to churn, so the company should plan accordingly to prevent churning. One last thing is that trying to make customer subscribed more than month to month will prevent churning too."
   ]
  },
  {
   "cell_type": "code",
   "execution_count": 246,
   "id": "1f202cd5",
   "metadata": {
    "scrolled": true
   },
   "outputs": [
    {
     "data": {
      "text/html": [
       "<div>\n",
       "<style scoped>\n",
       "    .dataframe tbody tr th:only-of-type {\n",
       "        vertical-align: middle;\n",
       "    }\n",
       "\n",
       "    .dataframe tbody tr th {\n",
       "        vertical-align: top;\n",
       "    }\n",
       "\n",
       "    .dataframe thead th {\n",
       "        text-align: right;\n",
       "    }\n",
       "</style>\n",
       "<table border=\"1\" class=\"dataframe\">\n",
       "  <thead>\n",
       "    <tr style=\"text-align: right;\">\n",
       "      <th></th>\n",
       "      <th>Feature Name</th>\n",
       "      <th>Feature Importance by LG</th>\n",
       "    </tr>\n",
       "  </thead>\n",
       "  <tbody>\n",
       "    <tr>\n",
       "      <th>0</th>\n",
       "      <td>number_of_referrals</td>\n",
       "      <td>-2.552518</td>\n",
       "    </tr>\n",
       "    <tr>\n",
       "      <th>1</th>\n",
       "      <td>tenure_in_months</td>\n",
       "      <td>-1.896302</td>\n",
       "    </tr>\n",
       "    <tr>\n",
       "      <th>30</th>\n",
       "      <td>subscription_type_Two Year</td>\n",
       "      <td>-1.212552</td>\n",
       "    </tr>\n",
       "    <tr>\n",
       "      <th>10</th>\n",
       "      <td>offer_Offer D</td>\n",
       "      <td>-0.687047</td>\n",
       "    </tr>\n",
       "    <tr>\n",
       "      <th>32</th>\n",
       "      <td>payment_method_Credit Card</td>\n",
       "      <td>-0.446266</td>\n",
       "    </tr>\n",
       "  </tbody>\n",
       "</table>\n",
       "</div>"
      ],
      "text/plain": [
       "                  Feature Name  Feature Importance by LG\n",
       "0          number_of_referrals                 -2.552518\n",
       "1             tenure_in_months                 -1.896302\n",
       "30  subscription_type_Two Year                 -1.212552\n",
       "10               offer_Offer D                 -0.687047\n",
       "32  payment_method_Credit Card                 -0.446266"
      ]
     },
     "execution_count": 246,
     "metadata": {},
     "output_type": "execute_result"
    }
   ],
   "source": [
    "lg_feature_imp = pd.DataFrame({'Feature Name': df_lg_pred.columns.values, 'Feature Importance by LG': logistic_model.coef_[0]})\n",
    "lg_feature_imp.sort_values('Feature Importance by LG', ascending = True).iloc[:5,:]"
   ]
  },
  {
   "cell_type": "code",
   "execution_count": 247,
   "id": "8c799e8f",
   "metadata": {},
   "outputs": [
    {
     "data": {
      "text/html": [
       "<div>\n",
       "<style scoped>\n",
       "    .dataframe tbody tr th:only-of-type {\n",
       "        vertical-align: middle;\n",
       "    }\n",
       "\n",
       "    .dataframe tbody tr th {\n",
       "        vertical-align: top;\n",
       "    }\n",
       "\n",
       "    .dataframe thead th {\n",
       "        text-align: right;\n",
       "    }\n",
       "</style>\n",
       "<table border=\"1\" class=\"dataframe\">\n",
       "  <thead>\n",
       "    <tr style=\"text-align: right;\">\n",
       "      <th></th>\n",
       "      <th>Feature Name</th>\n",
       "      <th>Feature Importance by RF</th>\n",
       "    </tr>\n",
       "  </thead>\n",
       "  <tbody>\n",
       "    <tr>\n",
       "      <th>6</th>\n",
       "      <td>tenure_in_months</td>\n",
       "      <td>0.190107</td>\n",
       "    </tr>\n",
       "    <tr>\n",
       "      <th>48</th>\n",
       "      <td>subscription_type_Month-to-Month</td>\n",
       "      <td>0.142932</td>\n",
       "    </tr>\n",
       "    <tr>\n",
       "      <th>9</th>\n",
       "      <td>total_charges</td>\n",
       "      <td>0.123169</td>\n",
       "    </tr>\n",
       "    <tr>\n",
       "      <th>13</th>\n",
       "      <td>total_revenue</td>\n",
       "      <td>0.109139</td>\n",
       "    </tr>\n",
       "    <tr>\n",
       "      <th>5</th>\n",
       "      <td>number_of_referrals</td>\n",
       "      <td>0.074167</td>\n",
       "    </tr>\n",
       "  </tbody>\n",
       "</table>\n",
       "</div>"
      ],
      "text/plain": [
       "                        Feature Name  Feature Importance by RF\n",
       "6                   tenure_in_months                  0.190107\n",
       "48  subscription_type_Month-to-Month                  0.142932\n",
       "9                      total_charges                  0.123169\n",
       "13                     total_revenue                  0.109139\n",
       "5                number_of_referrals                  0.074167"
      ]
     },
     "execution_count": 247,
     "metadata": {},
     "output_type": "execute_result"
    }
   ],
   "source": [
    "lg_feature_imp = pd.DataFrame({'Feature Name': df_pred.columns.values, 'Feature Importance by RF': random_forest_model.feature_importances_})\n",
    "lg_feature_imp.sort_values('Feature Importance by RF', ascending = False).iloc[:5,:]"
   ]
  },
  {
   "cell_type": "code",
   "execution_count": null,
   "id": "2266d51f",
   "metadata": {},
   "outputs": [],
   "source": []
  }
 ],
 "metadata": {
  "kernelspec": {
   "display_name": "Python 3 (ipykernel)",
   "language": "python",
   "name": "python3"
  },
  "language_info": {
   "codemirror_mode": {
    "name": "ipython",
    "version": 3
   },
   "file_extension": ".py",
   "mimetype": "text/x-python",
   "name": "python",
   "nbconvert_exporter": "python",
   "pygments_lexer": "ipython3",
   "version": "3.11.4"
  }
 },
 "nbformat": 4,
 "nbformat_minor": 5
}
